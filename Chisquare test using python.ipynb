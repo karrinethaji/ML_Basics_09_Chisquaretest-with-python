{
 "cells": [
  {
   "cell_type": "markdown",
   "id": "5b9284b9",
   "metadata": {},
   "source": [
    "## Chi-square test with Python"
   ]
  },
  {
   "cell_type": "markdown",
   "id": "4dd60ccd",
   "metadata": {},
   "source": [
    "Revise the theory concept before revising this notebook for better understanding"
   ]
  },
  {
   "cell_type": "code",
   "execution_count": 1,
   "id": "7af4904a",
   "metadata": {},
   "outputs": [],
   "source": [
    "from scipy import stats\n",
    "import numpy as np"
   ]
  },
  {
   "cell_type": "code",
   "execution_count": 2,
   "id": "daf312f2",
   "metadata": {},
   "outputs": [],
   "source": [
    "## No of hours student study daily in a weekly basis\n",
    "##monday,tuesday,Wednesday,thursday,Friday,Saturday,sunday\n",
    "expected_data=[8,6,7,9,6,9,7]\n",
    "observed_data=[7,8,6,9,9,6,7] # As a data analyst, we took some sample data and observed this data\n",
    "\n",
    "# Let's see whether the observed data is good fit for the expected data"
   ]
  },
  {
   "cell_type": "code",
   "execution_count": 3,
   "id": "d297a964",
   "metadata": {},
   "outputs": [
    {
     "data": {
      "text/plain": [
       "(52, 52)"
      ]
     },
     "execution_count": 3,
     "metadata": {},
     "output_type": "execute_result"
    }
   ],
   "source": [
    "sum(expected_data),sum(observed_data)"
   ]
  },
  {
   "cell_type": "code",
   "execution_count": 4,
   "id": "c16f636d",
   "metadata": {},
   "outputs": [],
   "source": [
    "# Chi square Goodness OF Fit\n",
    "chisquare_test_statistics,p_value=stats.chisquare(observed_data,expected_data)"
   ]
  },
  {
   "cell_type": "code",
   "execution_count": 5,
   "id": "7e029b28",
   "metadata": {},
   "outputs": [
    {
     "name": "stdout",
     "output_type": "stream",
     "text": [
      "chisquare_test_statistics: 3.4345238095238093\n",
      "p_value: 0.7526596580922865\n"
     ]
    }
   ],
   "source": [
    "print(\"chisquare_test_statistics:\",chisquare_test_statistics)\n",
    "print(\"p_value:\",p_value)"
   ]
  },
  {
   "cell_type": "code",
   "execution_count": 6,
   "id": "d7740bcd",
   "metadata": {},
   "outputs": [
    {
     "data": {
      "text/plain": [
       "0.7526596580922865"
      ]
     },
     "execution_count": 6,
     "metadata": {},
     "output_type": "execute_result"
    }
   ],
   "source": [
    "p_value"
   ]
  },
  {
   "cell_type": "code",
   "execution_count": 7,
   "id": "7960a870",
   "metadata": {},
   "outputs": [],
   "source": [
    "# Need to find the critical value\n",
    "\n",
    "significance_value = 0.05\n",
    "confidence_interval=1-significance_value\n",
    "degree_of_freedom= len(observed_data)-1 # observed data categories = \"sunday,monday,tuesday,....\"\n",
    "critical_value=stats.chi2.ppf(confidence_interval,degree_of_freedom)"
   ]
  },
  {
   "cell_type": "code",
   "execution_count": 8,
   "id": "28e9b732",
   "metadata": {},
   "outputs": [
    {
     "data": {
      "text/plain": [
       "12.591587243743977"
      ]
     },
     "execution_count": 8,
     "metadata": {},
     "output_type": "execute_result"
    }
   ],
   "source": [
    "critical_value"
   ]
  },
  {
   "cell_type": "code",
   "execution_count": 9,
   "id": "b623e91e",
   "metadata": {},
   "outputs": [
    {
     "name": "stdout",
     "output_type": "stream",
     "text": [
      "Accept the null hypothesis\n"
     ]
    }
   ],
   "source": [
    "if chisquare_test_statistics > critical_value:\n",
    "    print(\"Reject the null hypothesis\")\n",
    "else:\n",
    "    print(\"Accept the null hypothesis\")"
   ]
  },
  {
   "cell_type": "code",
   "execution_count": 10,
   "id": "cea684db",
   "metadata": {},
   "outputs": [],
   "source": [
    "# Finally we can conclude that the expected data and observed data is matching with respect to the number of study hpurs"
   ]
  }
 ],
 "metadata": {
  "kernelspec": {
   "display_name": "Python 3 (ipykernel)",
   "language": "python",
   "name": "python3"
  },
  "language_info": {
   "codemirror_mode": {
    "name": "ipython",
    "version": 3
   },
   "file_extension": ".py",
   "mimetype": "text/x-python",
   "name": "python",
   "nbconvert_exporter": "python",
   "pygments_lexer": "ipython3",
   "version": "3.10.13"
  }
 },
 "nbformat": 4,
 "nbformat_minor": 5
}
